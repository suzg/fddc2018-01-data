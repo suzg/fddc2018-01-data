{
 "cells": [
  {
   "cell_type": "code",
   "execution_count": 1,
   "metadata": {},
   "outputs": [],
   "source": [
    "DATA_CSV = 'data'"
   ]
  },
  {
   "cell_type": "code",
   "execution_count": 2,
   "metadata": {},
   "outputs": [],
   "source": [
    "import os\n",
    "import numpy as np\n",
    "import pandas as pd\n",
    "import gc\n",
    "from datetime import date"
   ]
  },
  {
   "cell_type": "code",
   "execution_count": 3,
   "metadata": {},
   "outputs": [],
   "source": [
    "FILES = {\n",
    "    'BalanceSheet.xls': '6744ea8815a55928f01bef9d4e37a60f',\n",
    "    'CashFlowStatement.xls': '40be319c9a993fb44935fc491125e8c8',\n",
    "    'CompanyOperation.xls': '743f424c23ac8897ac3cbd56df678a73',\n",
    "    'IncomeStatement.xls': 'a044b7f5e633a76a2126174241910583',\n",
    "    'MacroIndustry.xls': '84de4bbf7296678aec487f27e7aa8b3e',\n",
    "    'MarketData.csv': 'bb0826797c51f28e0f2c20f1462718a6',\n",
    "}\n",
    "\n",
    "DataFiles = {}\n",
    "for k, v in FILES.items():\n",
    "    DataFiles[k] = os.path.join(\"downloads\", k)"
   ]
  },
  {
   "cell_type": "code",
   "execution_count": 4,
   "metadata": {},
   "outputs": [
    {
     "data": {
      "text/plain": [
       "{'BalanceSheet.xls': 'downloads/BalanceSheet.xls',\n",
       " 'CashFlowStatement.xls': 'downloads/CashFlowStatement.xls',\n",
       " 'CompanyOperation.xls': 'downloads/CompanyOperation.xls',\n",
       " 'IncomeStatement.xls': 'downloads/IncomeStatement.xls',\n",
       " 'MacroIndustry.xls': 'downloads/MacroIndustry.xls',\n",
       " 'MarketData.csv': 'downloads/MarketData.csv'}"
      ]
     },
     "execution_count": 4,
     "metadata": {},
     "output_type": "execute_result"
    }
   ],
   "source": [
    "DataFiles"
   ]
  },
  {
   "cell_type": "code",
   "execution_count": 5,
   "metadata": {},
   "outputs": [],
   "source": [
    "df = pd.read_csv(DataFiles['MarketData.csv'],\n",
    "                 dtype={\"TICKER_SYMBOL\":str},\n",
    "                 parse_dates=['END_DATE_'],\n",
    "                 encoding='gbk')\n",
    "df = df.rename(columns={'END_DATE_':'END_DATE'})\n",
    "df.to_csv(os.path.join(DATA_CSV, 'MarketData.csv'), index=False)"
   ]
  },
  {
   "cell_type": "code",
   "execution_count": 6,
   "metadata": {},
   "outputs": [
    {
     "ename": "KeyboardInterrupt",
     "evalue": "",
     "output_type": "error",
     "traceback": [
      "\u001b[0;31m---------------------------------------------------------------------------\u001b[0m",
      "\u001b[0;31mKeyboardInterrupt\u001b[0m                         Traceback (most recent call last)",
      "\u001b[0;32m<ipython-input-6-e28576adfecf>\u001b[0m in \u001b[0;36m<module>\u001b[0;34m()\u001b[0m\n\u001b[1;32m      2\u001b[0m                    \u001b[0mdtype\u001b[0m\u001b[0;34m=\u001b[0m\u001b[0;34m{\u001b[0m\u001b[0;34m\"TICKER_SYMBOL\"\u001b[0m\u001b[0;34m:\u001b[0m\u001b[0mstr\u001b[0m\u001b[0;34m}\u001b[0m\u001b[0;34m,\u001b[0m\u001b[0;34m\u001b[0m\u001b[0m\n\u001b[1;32m      3\u001b[0m                    \u001b[0mparse_dates\u001b[0m\u001b[0;34m=\u001b[0m\u001b[0;34m[\u001b[0m\u001b[0;34m'PUBLISH_DATE'\u001b[0m\u001b[0;34m,\u001b[0m \u001b[0;34m'END_DATE_REP'\u001b[0m\u001b[0;34m,\u001b[0m \u001b[0;34m'END_DATE'\u001b[0m\u001b[0;34m]\u001b[0m\u001b[0;34m,\u001b[0m\u001b[0;34m\u001b[0m\u001b[0m\n\u001b[0;32m----> 4\u001b[0;31m                    sheet_name=0)\n\u001b[0m\u001b[1;32m      5\u001b[0m \u001b[0mdf\u001b[0m\u001b[0;34m.\u001b[0m\u001b[0mto_csv\u001b[0m\u001b[0;34m(\u001b[0m\u001b[0mos\u001b[0m\u001b[0;34m.\u001b[0m\u001b[0mpath\u001b[0m\u001b[0;34m.\u001b[0m\u001b[0mjoin\u001b[0m\u001b[0;34m(\u001b[0m\u001b[0mDATA_CSV\u001b[0m\u001b[0;34m,\u001b[0m \u001b[0;34m'BalanceSheet-GeneralBusiness.csv'\u001b[0m\u001b[0;34m)\u001b[0m\u001b[0;34m,\u001b[0m \u001b[0mindex\u001b[0m\u001b[0;34m=\u001b[0m\u001b[0;32mFalse\u001b[0m\u001b[0;34m)\u001b[0m\u001b[0;34m\u001b[0m\u001b[0m\n\u001b[1;32m      6\u001b[0m df = pd.read_excel(DataFiles['BalanceSheet.xls'],\n",
      "\u001b[0;32m~/anaconda3/envs/fdcc/lib/python3.6/site-packages/pandas/util/_decorators.py\u001b[0m in \u001b[0;36mwrapper\u001b[0;34m(*args, **kwargs)\u001b[0m\n\u001b[1;32m    175\u001b[0m                 \u001b[0;32melse\u001b[0m\u001b[0;34m:\u001b[0m\u001b[0;34m\u001b[0m\u001b[0m\n\u001b[1;32m    176\u001b[0m                     \u001b[0mkwargs\u001b[0m\u001b[0;34m[\u001b[0m\u001b[0mnew_arg_name\u001b[0m\u001b[0;34m]\u001b[0m \u001b[0;34m=\u001b[0m \u001b[0mnew_arg_value\u001b[0m\u001b[0;34m\u001b[0m\u001b[0m\n\u001b[0;32m--> 177\u001b[0;31m             \u001b[0;32mreturn\u001b[0m \u001b[0mfunc\u001b[0m\u001b[0;34m(\u001b[0m\u001b[0;34m*\u001b[0m\u001b[0margs\u001b[0m\u001b[0;34m,\u001b[0m \u001b[0;34m**\u001b[0m\u001b[0mkwargs\u001b[0m\u001b[0;34m)\u001b[0m\u001b[0;34m\u001b[0m\u001b[0m\n\u001b[0m\u001b[1;32m    178\u001b[0m         \u001b[0;32mreturn\u001b[0m \u001b[0mwrapper\u001b[0m\u001b[0;34m\u001b[0m\u001b[0m\n\u001b[1;32m    179\u001b[0m     \u001b[0;32mreturn\u001b[0m \u001b[0m_deprecate_kwarg\u001b[0m\u001b[0;34m\u001b[0m\u001b[0m\n",
      "\u001b[0;32m~/anaconda3/envs/fdcc/lib/python3.6/site-packages/pandas/util/_decorators.py\u001b[0m in \u001b[0;36mwrapper\u001b[0;34m(*args, **kwargs)\u001b[0m\n\u001b[1;32m    175\u001b[0m                 \u001b[0;32melse\u001b[0m\u001b[0;34m:\u001b[0m\u001b[0;34m\u001b[0m\u001b[0m\n\u001b[1;32m    176\u001b[0m                     \u001b[0mkwargs\u001b[0m\u001b[0;34m[\u001b[0m\u001b[0mnew_arg_name\u001b[0m\u001b[0;34m]\u001b[0m \u001b[0;34m=\u001b[0m \u001b[0mnew_arg_value\u001b[0m\u001b[0;34m\u001b[0m\u001b[0m\n\u001b[0;32m--> 177\u001b[0;31m             \u001b[0;32mreturn\u001b[0m \u001b[0mfunc\u001b[0m\u001b[0;34m(\u001b[0m\u001b[0;34m*\u001b[0m\u001b[0margs\u001b[0m\u001b[0;34m,\u001b[0m \u001b[0;34m**\u001b[0m\u001b[0mkwargs\u001b[0m\u001b[0;34m)\u001b[0m\u001b[0;34m\u001b[0m\u001b[0m\n\u001b[0m\u001b[1;32m    178\u001b[0m         \u001b[0;32mreturn\u001b[0m \u001b[0mwrapper\u001b[0m\u001b[0;34m\u001b[0m\u001b[0m\n\u001b[1;32m    179\u001b[0m     \u001b[0;32mreturn\u001b[0m \u001b[0m_deprecate_kwarg\u001b[0m\u001b[0;34m\u001b[0m\u001b[0m\n",
      "\u001b[0;32m~/anaconda3/envs/fdcc/lib/python3.6/site-packages/pandas/io/excel.py\u001b[0m in \u001b[0;36mread_excel\u001b[0;34m(io, sheet_name, header, names, index_col, usecols, squeeze, dtype, engine, converters, true_values, false_values, skiprows, nrows, na_values, parse_dates, date_parser, thousands, comment, skipfooter, convert_float, **kwds)\u001b[0m\n\u001b[1;32m    327\u001b[0m         \u001b[0mskipfooter\u001b[0m\u001b[0;34m=\u001b[0m\u001b[0mskipfooter\u001b[0m\u001b[0;34m,\u001b[0m\u001b[0;34m\u001b[0m\u001b[0m\n\u001b[1;32m    328\u001b[0m         \u001b[0mconvert_float\u001b[0m\u001b[0;34m=\u001b[0m\u001b[0mconvert_float\u001b[0m\u001b[0;34m,\u001b[0m\u001b[0;34m\u001b[0m\u001b[0m\n\u001b[0;32m--> 329\u001b[0;31m         **kwds)\n\u001b[0m\u001b[1;32m    330\u001b[0m \u001b[0;34m\u001b[0m\u001b[0m\n\u001b[1;32m    331\u001b[0m \u001b[0;34m\u001b[0m\u001b[0m\n",
      "\u001b[0;32m~/anaconda3/envs/fdcc/lib/python3.6/site-packages/pandas/io/excel.py\u001b[0m in \u001b[0;36mparse\u001b[0;34m(self, sheet_name, header, names, index_col, usecols, squeeze, converters, true_values, false_values, skiprows, nrows, na_values, parse_dates, date_parser, thousands, comment, skipfooter, convert_float, **kwds)\u001b[0m\n\u001b[1;32m    454\u001b[0m                                  \u001b[0mskipfooter\u001b[0m\u001b[0;34m=\u001b[0m\u001b[0mskipfooter\u001b[0m\u001b[0;34m,\u001b[0m\u001b[0;34m\u001b[0m\u001b[0m\n\u001b[1;32m    455\u001b[0m                                  \u001b[0mconvert_float\u001b[0m\u001b[0;34m=\u001b[0m\u001b[0mconvert_float\u001b[0m\u001b[0;34m,\u001b[0m\u001b[0;34m\u001b[0m\u001b[0m\n\u001b[0;32m--> 456\u001b[0;31m                                  **kwds)\n\u001b[0m\u001b[1;32m    457\u001b[0m \u001b[0;34m\u001b[0m\u001b[0m\n\u001b[1;32m    458\u001b[0m     \u001b[0;32mdef\u001b[0m \u001b[0m_should_parse\u001b[0m\u001b[0;34m(\u001b[0m\u001b[0mself\u001b[0m\u001b[0;34m,\u001b[0m \u001b[0mi\u001b[0m\u001b[0;34m,\u001b[0m \u001b[0musecols\u001b[0m\u001b[0;34m)\u001b[0m\u001b[0;34m:\u001b[0m\u001b[0;34m\u001b[0m\u001b[0m\n",
      "\u001b[0;32m~/anaconda3/envs/fdcc/lib/python3.6/site-packages/pandas/io/excel.py\u001b[0m in \u001b[0;36m_parse_excel\u001b[0;34m(self, sheet_name, header, names, index_col, usecols, squeeze, dtype, true_values, false_values, skiprows, nrows, na_values, verbose, parse_dates, date_parser, thousands, comment, skipfooter, convert_float, **kwds)\u001b[0m\n\u001b[1;32m    620\u001b[0m \u001b[0;34m\u001b[0m\u001b[0m\n\u001b[1;32m    621\u001b[0m                     \u001b[0;32mif\u001b[0m \u001b[0musecols\u001b[0m \u001b[0;32mis\u001b[0m \u001b[0;32mNone\u001b[0m \u001b[0;32mor\u001b[0m \u001b[0mshould_parse\u001b[0m\u001b[0;34m[\u001b[0m\u001b[0mj\u001b[0m\u001b[0;34m]\u001b[0m\u001b[0;34m:\u001b[0m\u001b[0;34m\u001b[0m\u001b[0m\n\u001b[0;32m--> 622\u001b[0;31m                         \u001b[0mrow\u001b[0m\u001b[0;34m.\u001b[0m\u001b[0mappend\u001b[0m\u001b[0;34m(\u001b[0m\u001b[0m_parse_cell\u001b[0m\u001b[0;34m(\u001b[0m\u001b[0mvalue\u001b[0m\u001b[0;34m,\u001b[0m \u001b[0mtyp\u001b[0m\u001b[0;34m)\u001b[0m\u001b[0;34m)\u001b[0m\u001b[0;34m\u001b[0m\u001b[0m\n\u001b[0m\u001b[1;32m    623\u001b[0m                 \u001b[0mdata\u001b[0m\u001b[0;34m.\u001b[0m\u001b[0mappend\u001b[0m\u001b[0;34m(\u001b[0m\u001b[0mrow\u001b[0m\u001b[0;34m)\u001b[0m\u001b[0;34m\u001b[0m\u001b[0m\n\u001b[1;32m    624\u001b[0m \u001b[0;34m\u001b[0m\u001b[0m\n",
      "\u001b[0;31mKeyboardInterrupt\u001b[0m: "
     ]
    }
   ],
   "source": [
    "df = pd.read_excel(DataFiles['BalanceSheet.xls'],\n",
    "                   dtype={\"TICKER_SYMBOL\":str},\n",
    "                   parse_dates=['PUBLISH_DATE', 'END_DATE_REP', 'END_DATE'],\n",
    "                   sheet_name=0)\n",
    "df.to_csv(os.path.join(DATA_CSV, 'BalanceSheet-GeneralBusiness.csv'), index=False)\n",
    "df = pd.read_excel(DataFiles['BalanceSheet.xls'],\n",
    "                   dtype={\"TICKER_SYMBOL\":str},\n",
    "                   parse_dates=['PUBLISH_DATE', 'END_DATE_REP', 'END_DATE'],\n",
    "                   sheet_name=1)\n",
    "df.to_csv(os.path.join(DATA_CSV, 'BalanceSheet-Bank.csv'), index=False)\n",
    "df = pd.read_excel(DataFiles['BalanceSheet.xls'],\n",
    "                   dtype={\"TICKER_SYMBOL\":str},\n",
    "                   parse_dates=['PUBLISH_DATE', 'END_DATE_REP', 'END_DATE'],\n",
    "                   sheet_name=2)\n",
    "df.to_csv(os.path.join(DATA_CSV, 'BalanceSheet-Securities.csv'), index=False)\n",
    "df = pd.read_excel(DataFiles['BalanceSheet.xls'],\n",
    "                   dtype={\"TICKER_SYMBOL\":str},\n",
    "                   parse_dates=['PUBLISH_DATE', 'END_DATE_REP', 'END_DATE'],\n",
    "                   sheet_name=3)\n",
    "df.to_csv(os.path.join(DATA_CSV, 'BalanceSheet-Insurance.csv'), index=False)"
   ]
  },
  {
   "cell_type": "code",
   "execution_count": null,
   "metadata": {},
   "outputs": [],
   "source": [
    "gc.collect()"
   ]
  },
  {
   "cell_type": "code",
   "execution_count": null,
   "metadata": {},
   "outputs": [],
   "source": [
    "df = pd.read_excel(DataFiles['CashFlowStatement.xls'],\n",
    "                   dtype={\"TICKER_SYMBOL\":str},\n",
    "                   parse_dates=['PUBLISH_DATE', 'END_DATE_REP', 'END_DATE'],\n",
    "                   sheet_name=0)\n",
    "df.to_csv(os.path.join(DATA_CSV, 'CashFlowStatement-GeneralBusiness.csv'), index=False)\n",
    "df = pd.read_excel(DataFiles['CashFlowStatement.xls'],\n",
    "                   dtype={\"TICKER_SYMBOL\":str},\n",
    "                   parse_dates=['PUBLISH_DATE', 'END_DATE_REP', 'END_DATE'],\n",
    "                   sheet_name=1)\n",
    "df.to_csv(os.path.join(DATA_CSV, 'CashFlowStatement-Bank.csv'), index=False)\n",
    "df = pd.read_excel(DataFiles['CashFlowStatement.xls'],\n",
    "                   dtype={\"TICKER_SYMBOL\":str},\n",
    "                   parse_dates=['PUBLISH_DATE', 'END_DATE_REP', 'END_DATE'],\n",
    "                   sheet_name=2)\n",
    "df.to_csv(os.path.join(DATA_CSV, 'CashFlowStatement-Securities.csv'), index=False)\n",
    "df = pd.read_excel(DataFiles['CashFlowStatement.xls'],\n",
    "                   dtype={\"TICKER_SYMBOL\":str},\n",
    "                   parse_dates=['PUBLISH_DATE', 'END_DATE_REP', 'END_DATE'],\n",
    "                   sheet_name=3)\n",
    "df.to_csv(os.path.join(DATA_CSV, 'CashFlowStatement-Insurance.csv'), index=False)"
   ]
  },
  {
   "cell_type": "code",
   "execution_count": null,
   "metadata": {},
   "outputs": [],
   "source": [
    "gc.collect()"
   ]
  },
  {
   "cell_type": "code",
   "execution_count": null,
   "metadata": {},
   "outputs": [],
   "source": [
    "df = pd.read_excel(DataFiles['CompanyOperation.xls'],\n",
    "                   skiprows=[1],\n",
    "                   dtype={\"TICKER_SYMBOL\":str},\n",
    "                   sheet_name=0)\n",
    "df = df.rename(columns={'END_DATE ':'END_DATE'})\n",
    "df['END_DATE'] = pd.to_datetime(df['END_DATE'])\n",
    "df.to_csv(os.path.join(DATA_CSV, 'CompanyOperation.csv'), index=False)"
   ]
  },
  {
   "cell_type": "code",
   "execution_count": null,
   "metadata": {},
   "outputs": [],
   "source": [
    "gc.collect()"
   ]
  },
  {
   "cell_type": "code",
   "execution_count": null,
   "metadata": {},
   "outputs": [],
   "source": [
    "df = pd.read_excel(DataFiles['IncomeStatement.xls'],\n",
    "                   dtype={\"TICKER_SYMBOL\":str},\n",
    "                   parse_dates=['PUBLISH_DATE', 'END_DATE_REP', 'END_DATE'],\n",
    "                   sheet_name=0)\n",
    "df.to_csv(os.path.join(DATA_CSV, 'IncomeStatement-GeneralBusiness.csv'), index=False)\n",
    "df = pd.read_excel(DataFiles['IncomeStatement.xls'],\n",
    "                   dtype={\"TICKER_SYMBOL\":str},\n",
    "                   parse_dates=['PUBLISH_DATE', 'END_DATE_REP', 'END_DATE'],\n",
    "                   sheet_name=1)\n",
    "df.to_csv(os.path.join(DATA_CSV, 'IncomeStatement-Bank.csv'), index=False)\n",
    "df = pd.read_excel(DataFiles['IncomeStatement.xls'],\n",
    "                   dtype={\"TICKER_SYMBOL\":str},\n",
    "                   parse_dates=['PUBLISH_DATE', 'END_DATE_REP', 'END_DATE'],\n",
    "                   sheet_name=2)\n",
    "df.to_csv(os.path.join(DATA_CSV, 'IncomeStatement-Securities.csv'), index=False)\n",
    "df = pd.read_excel(DataFiles['IncomeStatement.xls'],\n",
    "                   dtype={\"TICKER_SYMBOL\":str},\n",
    "                   parse_dates=['PUBLISH_DATE', 'END_DATE_REP', 'END_DATE'],\n",
    "                   sheet_name=3)\n",
    "df.to_csv(os.path.join(DATA_CSV, 'IncomeStatement-Insurance.csv'), index=False)"
   ]
  },
  {
   "cell_type": "code",
   "execution_count": null,
   "metadata": {},
   "outputs": [],
   "source": [
    "gc.collect()"
   ]
  },
  {
   "cell_type": "code",
   "execution_count": null,
   "metadata": {},
   "outputs": [],
   "source": [
    "df = pd.read_excel(DataFiles['MacroIndustry.xls'],\n",
    "                   parse_dates=['PERIOD_DATE'],\n",
    "                   sheet_name=1)\n",
    "df.to_csv(os.path.join(DATA_CSV, 'MacroIndustry.csv'), index=False)"
   ]
  },
  {
   "cell_type": "code",
   "execution_count": null,
   "metadata": {},
   "outputs": [],
   "source": [
    "gc.collect()"
   ]
  },
  {
   "cell_type": "code",
   "execution_count": null,
   "metadata": {},
   "outputs": [],
   "source": []
  }
 ],
 "metadata": {
  "kernelspec": {
   "display_name": "Python 3",
   "language": "python",
   "name": "python3"
  },
  "language_info": {
   "codemirror_mode": {
    "name": "ipython",
    "version": 3
   },
   "file_extension": ".py",
   "mimetype": "text/x-python",
   "name": "python",
   "nbconvert_exporter": "python",
   "pygments_lexer": "ipython3",
   "version": "3.6.5"
  }
 },
 "nbformat": 4,
 "nbformat_minor": 2
}
