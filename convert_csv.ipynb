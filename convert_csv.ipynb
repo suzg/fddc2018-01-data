{
 "cells": [
  {
   "cell_type": "code",
   "execution_count": 1,
   "metadata": {},
   "outputs": [],
   "source": [
    "DATA_CSV = 'data'"
   ]
  },
  {
   "cell_type": "code",
   "execution_count": 2,
   "metadata": {},
   "outputs": [],
   "source": [
    "import os\n",
    "import numpy as np\n",
    "import pandas as pd\n",
    "import gc"
   ]
  },
  {
   "cell_type": "code",
   "execution_count": 3,
   "metadata": {},
   "outputs": [],
   "source": [
    "FILES = {\n",
    "    'BalanceSheet.xls': '6744ea8815a55928f01bef9d4e37a60f',\n",
    "    'CashFlowStatement.xls': '40be319c9a993fb44935fc491125e8c8',\n",
    "    'CompanyOperation.xls': '743f424c23ac8897ac3cbd56df678a73',\n",
    "    'IncomeStatement.xls': 'a044b7f5e633a76a2126174241910583',\n",
    "    'MacroIndustry.xls': '84de4bbf7296678aec487f27e7aa8b3e',\n",
    "    'MarketData.csv': 'bb0826797c51f28e0f2c20f1462718a6',\n",
    "}\n",
    "\n",
    "DataFiles = {}\n",
    "for k, v in FILES.items():\n",
    "    DataFiles[k] = os.path.join(\"downloads\", k)"
   ]
  },
  {
   "cell_type": "code",
   "execution_count": 4,
   "metadata": {},
   "outputs": [
    {
     "data": {
      "text/plain": [
       "{'BalanceSheet.xls': 'downloads/BalanceSheet.xls',\n",
       " 'CashFlowStatement.xls': 'downloads/CashFlowStatement.xls',\n",
       " 'CompanyOperation.xls': 'downloads/CompanyOperation.xls',\n",
       " 'IncomeStatement.xls': 'downloads/IncomeStatement.xls',\n",
       " 'MacroIndustry.xls': 'downloads/MacroIndustry.xls',\n",
       " 'MarketData.csv': 'downloads/MarketData.csv'}"
      ]
     },
     "execution_count": 4,
     "metadata": {},
     "output_type": "execute_result"
    }
   ],
   "source": [
    "DataFiles"
   ]
  },
  {
   "cell_type": "code",
   "execution_count": 5,
   "metadata": {},
   "outputs": [],
   "source": [
    "df = pd.read_csv(DataFiles['MarketData.csv'], encoding='gbk')\n",
    "df.to_csv(os.path.join(DATA_CSV, 'MarketData.csv'), index=False)"
   ]
  },
  {
   "cell_type": "code",
   "execution_count": 7,
   "metadata": {},
   "outputs": [],
   "source": [
    "df = pd.read_excel(DataFiles['BalanceSheet.xls'], sheet_name=0)\n",
    "df.to_csv(os.path.join(DATA_CSV, 'BalanceSheet-GeneralBusiness.csv'), index=False)\n",
    "df = pd.read_excel(DataFiles['BalanceSheet.xls'], sheet_name=1)\n",
    "df.to_csv(os.path.join(DATA_CSV, 'BalanceSheet-Bank.csv'), index=False)\n",
    "df = pd.read_excel(DataFiles['BalanceSheet.xls'], sheet_name=2)\n",
    "df.to_csv(os.path.join(DATA_CSV, 'BalanceSheet-Securities.csv'), index=False)\n",
    "df = pd.read_excel(DataFiles['BalanceSheet.xls'], sheet_name=3)\n",
    "df.to_csv(os.path.join(DATA_CSV, 'BalanceSheet-Insurance.csv'), index=False)"
   ]
  },
  {
   "cell_type": "code",
   "execution_count": 8,
   "metadata": {},
   "outputs": [
    {
     "data": {
      "text/plain": [
       "214154"
      ]
     },
     "execution_count": 8,
     "metadata": {},
     "output_type": "execute_result"
    }
   ],
   "source": [
    "gc.collect()"
   ]
  },
  {
   "cell_type": "code",
   "execution_count": 9,
   "metadata": {},
   "outputs": [],
   "source": [
    "df = pd.read_excel(DataFiles['CashFlowStatement.xls'], sheet_name=0)\n",
    "df.to_csv(os.path.join(DATA_CSV, 'CashFlowStatement-GeneralBusiness.csv'), index=False)\n",
    "df = pd.read_excel(DataFiles['CashFlowStatement.xls'], sheet_name=1)\n",
    "df.to_csv(os.path.join(DATA_CSV, 'CashFlowStatement-Bank.csv'), index=False)\n",
    "df = pd.read_excel(DataFiles['CashFlowStatement.xls'], sheet_name=2)\n",
    "df.to_csv(os.path.join(DATA_CSV, 'CashFlowStatement-Securities.csv'), index=False)\n",
    "df = pd.read_excel(DataFiles['CashFlowStatement.xls'], sheet_name=3)\n",
    "df.to_csv(os.path.join(DATA_CSV, 'CashFlowStatement-Insurance.csv'), index=False)"
   ]
  },
  {
   "cell_type": "code",
   "execution_count": 10,
   "metadata": {},
   "outputs": [
    {
     "data": {
      "text/plain": [
       "211792"
      ]
     },
     "execution_count": 10,
     "metadata": {},
     "output_type": "execute_result"
    }
   ],
   "source": [
    "gc.collect()"
   ]
  },
  {
   "cell_type": "code",
   "execution_count": 11,
   "metadata": {},
   "outputs": [],
   "source": [
    "df = pd.read_excel(DataFiles['CompanyOperation.xls'], sheet_name=0)\n",
    "df.to_csv(os.path.join(DATA_CSV, 'CompanyOperation.csv'), index=False)"
   ]
  },
  {
   "cell_type": "code",
   "execution_count": 12,
   "metadata": {},
   "outputs": [
    {
     "data": {
      "text/plain": [
       "10478"
      ]
     },
     "execution_count": 12,
     "metadata": {},
     "output_type": "execute_result"
    }
   ],
   "source": [
    "gc.collect()"
   ]
  },
  {
   "cell_type": "code",
   "execution_count": 13,
   "metadata": {},
   "outputs": [],
   "source": [
    "df = pd.read_excel(DataFiles['IncomeStatement.xls'], sheet_name=0)\n",
    "df.to_csv(os.path.join(DATA_CSV, 'IncomeStatement-GeneralBusiness.csv'), index=False)\n",
    "df = pd.read_excel(DataFiles['IncomeStatement.xls'], sheet_name=1)\n",
    "df.to_csv(os.path.join(DATA_CSV, 'IncomeStatement-Bank.csv'), index=False)\n",
    "df = pd.read_excel(DataFiles['IncomeStatement.xls'], sheet_name=2)\n",
    "df.to_csv(os.path.join(DATA_CSV, 'IncomeStatement-Securities.csv'), index=False)\n",
    "df = pd.read_excel(DataFiles['IncomeStatement.xls'], sheet_name=3)\n",
    "df.to_csv(os.path.join(DATA_CSV, 'IncomeStatement-Insurance.csv'), index=False)"
   ]
  },
  {
   "cell_type": "code",
   "execution_count": 14,
   "metadata": {},
   "outputs": [
    {
     "data": {
      "text/plain": [
       "212305"
      ]
     },
     "execution_count": 14,
     "metadata": {},
     "output_type": "execute_result"
    }
   ],
   "source": [
    "gc.collect()"
   ]
  },
  {
   "cell_type": "code",
   "execution_count": 15,
   "metadata": {},
   "outputs": [],
   "source": [
    "df = pd.read_excel(DataFiles['MacroIndustry.xls'], sheet_name=1)\n",
    "df.to_csv(os.path.join(DATA_CSV, 'MacroIndustry.csv'), index=False)"
   ]
  },
  {
   "cell_type": "code",
   "execution_count": 16,
   "metadata": {},
   "outputs": [
    {
     "data": {
      "text/plain": [
       "139149"
      ]
     },
     "execution_count": 16,
     "metadata": {},
     "output_type": "execute_result"
    }
   ],
   "source": [
    "gc.collect()"
   ]
  },
  {
   "cell_type": "code",
   "execution_count": null,
   "metadata": {},
   "outputs": [],
   "source": []
  }
 ],
 "metadata": {
  "kernelspec": {
   "display_name": "Python 3",
   "language": "python",
   "name": "python3"
  },
  "language_info": {
   "codemirror_mode": {
    "name": "ipython",
    "version": 3
   },
   "file_extension": ".py",
   "mimetype": "text/x-python",
   "name": "python",
   "nbconvert_exporter": "python",
   "pygments_lexer": "ipython3",
   "version": "3.6.5"
  }
 },
 "nbformat": 4,
 "nbformat_minor": 2
}
